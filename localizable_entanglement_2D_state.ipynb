{
 "cells": [
  {
   "cell_type": "markdown",
   "id": "1afcfcda-fafa-4027-abf4-340a28ed75e5",
   "metadata": {},
   "source": [
    "# Localizable entanglement in 2D cluster states\n",
    "\n",
    "In this notebook we compute the localizable entanglement of 2D ladder cluster states. The entanglement is computed for the two qubits on opposite corners of the graph, and it is computed as the average over the localizable entanglemen for all the $N/2$ paths connecting these two qubits"
   ]
  },
  {
   "cell_type": "code",
   "execution_count": 1,
   "id": "7a85f0e4-296c-4cd3-942b-4ef30919a776",
   "metadata": {},
   "outputs": [],
   "source": [
    "### loading some modules \n",
    "import numpy as np\n",
    "import networkx as nx\n",
    "import itertools\n",
    "\n",
    "from qutip import *\n",
    "from qutip.qip.operations import cnot, snot, ry\n",
    "from qutip.qip.circuit import QubitCircuit\n",
    "from qutip.qip.qubits import qubit_states\n",
    "import matplotlib.pyplot as plt \n",
    "\n",
    "import cirq\n",
    "import qutrit_utils"
   ]
  },
  {
   "cell_type": "code",
   "execution_count": 2,
   "id": "8340a56a-fdeb-4281-bf33-be3e44a4ffaa",
   "metadata": {},
   "outputs": [],
   "source": [
    "###\n",
    "#     Functions to construct the qubit graph\n",
    "###\n",
    "##-- return the indices of the neighbors of a given qubit\n",
    "def qubit_neighbor_indices(qubit, qubits):\n",
    "    \n",
    "    neighbor_list = list(qubit.neighbors(qubits))\n",
    "    index_neighbor_list = []\n",
    "    \n",
    "    for nn in range(len(neighbor_list)):\n",
    "        index_neighbor_list.append(qubits.index(neighbor_list[nn]))\n",
    "    #\n",
    "    return index_neighbor_list\n",
    "#\n",
    "\n",
    "##-- construct the graph of the 2D cluster state under consideration\n",
    "def build_qubit_graph(num_qubits):\n",
    "    qus = cirq.GridQubit.rect(rows = int(num_qubits/2), cols = 2)\n",
    "    \n",
    "    qubit_graph = nx.Graph()\n",
    "    qubit_graph.add_nodes_from(range(num_qubits))\n",
    "    \n",
    "    for nn in range(num_qubits):\n",
    "        ind_neighbors = qubit_neighbor_indices(qus[nn], qus)\n",
    "        \n",
    "        for ii in ind_neighbors:\n",
    "            if (nn, ii) not in qubit_graph.edges():\n",
    "                qubit_graph.add_edge(nn,ii)\n",
    "            #\n",
    "        #\n",
    "    #\n",
    "    \n",
    "    return qubit_graph\n",
    "#"
   ]
  },
  {
   "cell_type": "code",
   "execution_count": 3,
   "id": "90c050f5-8fa3-4c0d-973f-dcce35b8e506",
   "metadata": {},
   "outputs": [],
   "source": [
    "###\n",
    "#   some other utility functions\n",
    "###\n",
    "##-- compute the localizable netanglement based on the negativity\n",
    "def negativity(rho, Nq):\n",
    "    return((partial_transpose(rho, [0,1])).norm()-1)/2\n",
    "#"
   ]
  },
  {
   "cell_type": "code",
   "execution_count": 7,
   "id": "6d7d2c02-a947-4fa4-9198-16047c449ce2",
   "metadata": {},
   "outputs": [],
   "source": [
    "###\n",
    "#      Functions to compute the localizable entanglements\n",
    "###\n",
    "##-- get all the projectors\n",
    "def get_projector_path(Nq, path):\n",
    "    projs=[]\n",
    "\n",
    "    Tx = Qobj(np.array([[1.0/np.sqrt(2), -1.0/np.sqrt(2)],\n",
    "                     [1.0/np.sqrt(2), 1.0/np.sqrt(2)]]),dims=[[2],[2]])\n",
    "    Tz = Qobj(np.array([[1.0, 0.0],\n",
    "                     [0.0, 1.0]]),dims=[[2],[2]])\n",
    "    \n",
    "    ex = Tx*qubit_states(N=1, states=[1])\n",
    "    gx = Tx*qubit_states(N=1, states=[0])\n",
    "    ez = Tz*qubit_states(N=1, states=[1])\n",
    "    gz = Tz*qubit_states(N=1, states=[0])\n",
    "    \n",
    "    \n",
    "    gpx = gx.proj()\n",
    "    epx = ex.proj()\n",
    "    gpz = gz.proj()\n",
    "    epz = ez.proj()\n",
    "    \n",
    "    identity = Qobj(np.identity(2),dims=[[2],[2]])\n",
    "    \n",
    "    pros_x = [gpx, epx]\n",
    "    pros_z = [gpz, epz]\n",
    "        \n",
    "    projector = [0]*Nq\n",
    "    \n",
    "    for pp in range(Nq):\n",
    "        if pp == 0 or pp == Nq-1:\n",
    "            projector[pp] = identity\n",
    "        elif pp not in path:\n",
    "            projector[pp] = pros_z[np.random.choice([0,1])]\n",
    "        else:\n",
    "            projector[pp] = pros_x[np.random.choice([0,1])]\n",
    "        #\n",
    "    #\n",
    "    return tensor(projector)\n",
    "#\n",
    "\n",
    "##-- use the projectors to compute the localizable negativity\n",
    "def loc_neg(rho1, projs, Nq):\n",
    "    neglist = []\n",
    "    \n",
    "    for pp in range(len(projs)):\n",
    "        p = projs[pp]\n",
    "        \n",
    "        projected = (p*rho1)\n",
    "        ps = projected.tr()\n",
    "                \n",
    "        if ps != 0:\n",
    "            rho = (1/ps)*projected.ptrace([0, Nq-1])\n",
    "        else:\n",
    "            rho = 0*projected.ptrace([0, Nq-1])\n",
    "        #\n",
    "        neg = negativity(rho, 2)\n",
    "        neglist.append(neg)\n",
    "    #\n",
    "    return np.mean(neglist)\n",
    "#\n",
    "\n",
    "def loc_ent_half_length_path(rho, Nq):\n",
    "    ##-- construct of the paths of length Nq/2 - 1 beggining at qubit 0 and ending at qubit Nq-1\n",
    "    qgraph = build_qubit_graph(Nq)\n",
    "    qpaths = [path for path in nx.all_shortest_paths(qgraph,0,Nq-1)]\n",
    "    \n",
    "    negs = []\n",
    "    \n",
    "    for qpath in qpaths:\n",
    "        projs = [get_projector_path(Nq, qpath) for ii in range(256)]\n",
    "        negs.append(loc_neg(rho, projs, Nq))\n",
    "    #\n",
    "    return negs\n",
    "#   "
   ]
  },
  {
   "cell_type": "markdown",
   "id": "9df665d9-63f9-483c-af17-4ea6d7371795",
   "metadata": {},
   "source": [
    "## Fidelity of prepared cluster state"
   ]
  },
  {
   "cell_type": "code",
   "execution_count": 8,
   "id": "ec7db3b2-992e-4674-b1e8-181dda5cdcc5",
   "metadata": {},
   "outputs": [
    {
     "data": {
      "text/html": [
       "<pre style=\"overflow: auto; white-space: pre;\">                                      ┌────────────────────┐                   ┌──┐\n",
       "0 (d=3): ───[H]───[Q3_CZ]───[pi_ef]────[CX_Q3_Q2]──────────────[H]───[Q3_CZ]────X─────\n",
       "                  │                    │                             │          │\n",
       "1 (d=3): ───[H]───@─────────[pi_ef]────┼─────────[CX_Q3_Q2]────[H]───@──────────┼X────\n",
       "                                       │         │                              ││\n",
       "2: ────────────────────────────────────┼─────────┼──────────────────────────────X┼────\n",
       "                                       │         │                               │\n",
       "3: ────────────────────────────────────┼─────────┼───────────────────────────────X────\n",
       "                                       │         │\n",
       "4: ────────────────────────────────────@─────────┼────────────────────────────────────\n",
       "                                                 │\n",
       "5: ──────────────────────────────────────────────@────────────────────────────────────\n",
       "                                      └────────────────────┘                   └──┘</pre>"
      ],
      "text/plain": [
       "                                      ┌────────────────────┐                   ┌──┐\n",
       "0 (d=3): ───[H]───[Q3_CZ]───[pi_ef]────[CX_Q3_Q2]──────────────[H]───[Q3_CZ]────X─────\n",
       "                  │                    │                             │          │\n",
       "1 (d=3): ───[H]───@─────────[pi_ef]────┼─────────[CX_Q3_Q2]────[H]───@──────────┼X────\n",
       "                                       │         │                              ││\n",
       "2: ────────────────────────────────────┼─────────┼──────────────────────────────X┼────\n",
       "                                       │         │                               │\n",
       "3: ────────────────────────────────────┼─────────┼───────────────────────────────X────\n",
       "                                       │         │\n",
       "4: ────────────────────────────────────@─────────┼────────────────────────────────────\n",
       "                                                 │\n",
       "5: ──────────────────────────────────────────────@────────────────────────────────────\n",
       "                                      └────────────────────┘                   └──┘"
      ]
     },
     "execution_count": 8,
     "metadata": {},
     "output_type": "execute_result"
    }
   ],
   "source": [
    "qutrit_utils.leak_cluster_state_2D(4,0,0,0)"
   ]
  },
  {
   "cell_type": "markdown",
   "id": "8f51560b-e73c-4cf1-9238-e1efae6d2c43",
   "metadata": {},
   "source": [
    "## System parameters"
   ]
  },
  {
   "cell_type": "code",
   "execution_count": 9,
   "id": "269e347e-d896-49b3-81e3-7f44d09416c5",
   "metadata": {},
   "outputs": [],
   "source": [
    "### system parameters\n",
    "qus = [2,4,6,8,10]\n",
    "\n",
    "waittimes = [0.125, 0.2, 0.125, 0.125, 0.075, 0.205, 0.275]\n",
    "coherence_times1 = [27, 22, 16, 12]\n",
    "coherence_times2 = [22, 23, 4, 6]\n",
    "\n",
    "nparams = [0.035, 0.02, 0.01, 0.045]"
   ]
  },
  {
   "cell_type": "markdown",
   "id": "882902f4-ea6c-4157-95ea-8bba1b1ba067",
   "metadata": {},
   "source": [
    "## 1) The ideal cluster state"
   ]
  },
  {
   "cell_type": "markdown",
   "id": "54d69af7-c453-4110-bfb6-430b31b7cecc",
   "metadata": {},
   "source": [
    "### creating the states"
   ]
  },
  {
   "cell_type": "code",
   "execution_count": 10,
   "id": "af949073-6add-4db9-b2a2-f997e5fa88e6",
   "metadata": {},
   "outputs": [
    {
     "name": "stdout",
     "output_type": "stream",
     "text": [
      "CPU times: user 1.21 s, sys: 251 ms, total: 1.46 s\n",
      "Wall time: 1.51 s\n"
     ]
    },
    {
     "data": {
      "text/plain": [
       "5"
      ]
     },
     "execution_count": 10,
     "metadata": {},
     "output_type": "execute_result"
    }
   ],
   "source": [
    "%%time\n",
    "##-- initialize the simulators\n",
    "simulator = cirq.Simulator()\n",
    "dsim = cirq.DensityMatrixSimulator()\n",
    "\n",
    "ideal_states = []\n",
    "\n",
    "for qu in qus:\n",
    "\n",
    "    ideal_cluster_state_2d = simulator.simulate(qutrit_utils.leak_cluster_state_2D(qu, 0.0, 0.0, 0.0)).final_state_vector\n",
    "\n",
    "    big_ideal_rho = Qobj(np.outer(ideal_cluster_state_2d,ideal_cluster_state_2d), dims = [[3,3]+[2]*qu,[3,3]+[2]*qu], shape = [9*2**qu, 9*2**qu])\n",
    "    \n",
    "    ideal_rho = ptrace(big_ideal_rho, list(range(2, qu+2)))\n",
    "    \n",
    "    ideal_states.append(ideal_rho)\n",
    "#\n",
    "len(ideal_states)"
   ]
  },
  {
   "cell_type": "markdown",
   "id": "f92509c1-7961-40e0-9970-2b89c792daa3",
   "metadata": {},
   "source": [
    "### computing the localizable entanglement"
   ]
  },
  {
   "cell_type": "code",
   "execution_count": 11,
   "id": "7cee842a-c123-446e-a909-df24548e003a",
   "metadata": {},
   "outputs": [
    {
     "name": "stdout",
     "output_type": "stream",
     "text": [
      "[0.5]\n",
      "[0.5, 0.5]\n",
      "[0.49999999999999994, 0.49999999999999994, 0.49999999999999994]\n",
      "[0.5000000000000001, 0.5000000000000001, 0.5000000000000001, 0.5000000000000001]\n",
      "[0.4999999999999998, 0.4999999999999998, 0.4999999999999998, 0.4999999999999998, 0.4999999999999998]\n",
      "CPU times: user 21.1 s, sys: 68.4 ms, total: 21.2 s\n",
      "Wall time: 21.4 s\n"
     ]
    }
   ],
   "source": [
    "%%time\n",
    "mean_neg_ide = []\n",
    "std_neg_ide = []\n",
    "\n",
    "for qq in range(len(qus)):\n",
    "    qu = qus[qq]\n",
    "    \n",
    "    nega = loc_ent_half_length_path(ideal_states[qq], qu)\n",
    "    \n",
    "    mean_neg_ide.append(np.mean(nega))\n",
    "    std_neg_ide.append(np.std(nega))\n",
    "    print(nega)\n",
    "#"
   ]
  },
  {
   "cell_type": "markdown",
   "id": "6cfa32a0-ba1e-4737-9725-946678990fe9",
   "metadata": {},
   "source": [
    "## 2) The coherence limit"
   ]
  },
  {
   "cell_type": "markdown",
   "id": "b63e4c8b-5fe8-46b2-9063-2e7e258aef88",
   "metadata": {},
   "source": [
    "### creating the states"
   ]
  },
  {
   "cell_type": "code",
   "execution_count": 12,
   "id": "4474a2a6-a85a-48cb-9d11-d7bc35045006",
   "metadata": {},
   "outputs": [
    {
     "name": "stdout",
     "output_type": "stream",
     "text": [
      "CPU times: user 34.4 s, sys: 6.65 s, total: 41.1 s\n",
      "Wall time: 36.3 s\n"
     ]
    }
   ],
   "source": [
    "%%time\n",
    "deco_states = []\n",
    "\n",
    "for qu in qus:\n",
    "\n",
    "    deco_cluster_state_2d = dsim.simulate(qutrit_utils.noisy_cluster_state_2D(qu, waittimes, coherence_times1, coherence_times2, [0.0,0.0,0.0,0.0])).final_density_matrix\n",
    "    \n",
    "    big_deco_rho = Qobj(deco_cluster_state_2d, dims = [[3,3]+[2]*qu,[3,3]+[2]*qu], shape = [9*2**qu, 9*2**qu])\n",
    "    \n",
    "    deco_rho = ptrace(big_deco_rho, list(range(2, qu+2)))\n",
    "    \n",
    "    deco_states.append(deco_rho)\n",
    "#"
   ]
  },
  {
   "cell_type": "markdown",
   "id": "ba472ba1-b4b4-4200-b34b-a57bf4d06593",
   "metadata": {},
   "source": [
    "### computing the localizable entanglement"
   ]
  },
  {
   "cell_type": "code",
   "execution_count": 13,
   "id": "afb683bc-57fb-4f90-8499-15e7a89215f1",
   "metadata": {},
   "outputs": [
    {
     "name": "stdout",
     "output_type": "stream",
     "text": [
      "[0.4787889604159117]\n",
      "[0.43619176502222634, 0.44327403116371333]\n",
      "[0.4081983890588501, 0.4121148953792686, 0.41184134146520324]\n",
      "[0.3788690112027341, 0.38228112687286864, 0.3852835222337257, 0.37764631035472657]\n",
      "[0.35103641331133406, 0.3536724974651867, 0.356716728571436, 0.3515105336351365, 0.3442411192952789]\n",
      "CPU times: user 21.5 s, sys: 1.32 s, total: 22.8 s\n",
      "Wall time: 21.3 s\n"
     ]
    }
   ],
   "source": [
    "%%time\n",
    "mean_neg_deco = []\n",
    "std_neg_deco = []\n",
    "\n",
    "for qq in range(len(qus)):\n",
    "    qu = qus[qq]\n",
    "    \n",
    "    nega = loc_ent_half_length_path(deco_states[qq], qu)\n",
    "    \n",
    "    mean_neg_deco.append(np.mean(nega))\n",
    "    std_neg_deco.append(np.std(nega))\n",
    "    print(nega)\n",
    "#"
   ]
  },
  {
   "cell_type": "markdown",
   "id": "044faf3b-e258-4a14-914e-4b56d3c7dc67",
   "metadata": {},
   "source": [
    "## 3) The noisy states"
   ]
  },
  {
   "cell_type": "markdown",
   "id": "66420498-4ba4-4007-b05c-2b35d7fb1a08",
   "metadata": {},
   "source": [
    "### creating the states"
   ]
  },
  {
   "cell_type": "code",
   "execution_count": 14,
   "id": "c7cda891-218d-44d2-8929-69b924258e98",
   "metadata": {},
   "outputs": [
    {
     "name": "stdout",
     "output_type": "stream",
     "text": [
      "CPU times: user 42.4 s, sys: 17.1 s, total: 59.5 s\n",
      "Wall time: 37.5 s\n"
     ]
    }
   ],
   "source": [
    "%%time\n",
    "noisy_states = []\n",
    "\n",
    "for qu in qus:\n",
    "\n",
    "    noisy_cluster_state_2d = dsim.simulate(qutrit_utils.noisy_cluster_state_2D(qu, waittimes, coherence_times1, coherence_times2, nparams)).final_density_matrix    \n",
    "    \n",
    "    big_noisy_rho = Qobj(noisy_cluster_state_2d, dims = [[3,3]+[2]*qu,[3,3]+[2]*qu], shape = [9*2**qu, 9*2**qu])\n",
    "    \n",
    "    noisy_rho = ptrace(big_noisy_rho, list(range(2, qu+2)))\n",
    "    \n",
    "    noisy_states.append(noisy_rho)\n",
    "#"
   ]
  },
  {
   "cell_type": "markdown",
   "id": "ffe1a85b-0f85-48c5-8ed5-b29ad43234a9",
   "metadata": {},
   "source": [
    "### computing the localizable entanglement"
   ]
  },
  {
   "cell_type": "code",
   "execution_count": 15,
   "id": "82bd5f90-b46d-41a2-ae05-41aa8349887b",
   "metadata": {},
   "outputs": [
    {
     "name": "stdout",
     "output_type": "stream",
     "text": [
      "[0.4641193118012963]\n",
      "[0.37402689844613124, 0.3930507823791194]\n",
      "[0.3282886411557557, 0.34434395356102476, 0.33195383718749216]\n",
      "[0.2833480471476832, 0.28655679563303893, 0.273934660666401, 0.28014212902104596]\n",
      "[0.23571571044392653, 0.24361103512217686, 0.23707534534124575, 0.23269792260595357, 0.23757448104875847]\n",
      "CPU times: user 21.4 s, sys: 119 ms, total: 21.5 s\n",
      "Wall time: 22.3 s\n"
     ]
    }
   ],
   "source": [
    "%%time\n",
    "mean_neg_noisy = []\n",
    "std_neg_noisy = []\n",
    "\n",
    "for qq in range(len(qus)):\n",
    "    qu = qus[qq]\n",
    "\n",
    "    nega = loc_ent_half_length_path(noisy_states[qq], qu)\n",
    "\n",
    "    mean_neg_noisy.append(np.mean(nega))\n",
    "    std_neg_noisy.append(np.std(nega))\n",
    "    print(nega)\n",
    "#"
   ]
  },
  {
   "cell_type": "markdown",
   "id": "ba2799ac-be4f-4e5f-9447-28e20fc6e98c",
   "metadata": {},
   "source": [
    "## Plot!"
   ]
  },
  {
   "cell_type": "code",
   "execution_count": 17,
   "id": "d9783abe-dd7b-4358-8bf1-e634f6ed9c63",
   "metadata": {},
   "outputs": [
    {
     "data": {
      "image/png": "[encoded data removed]",
      "text/plain": [
       "<Figure size 800x500 with 1 Axes>"
      ]
     },
     "metadata": {},
     "output_type": "display_data"
    }
   ],
   "source": [
    "fig, ax = plt.subplots(figsize=(8,5))\n",
    "\n",
    "n_full = [[0.4641193118012963],\n",
    "[0.39164549277785776, 0.37130043283097525],\n",
    "[0.34191755170152094, 0.32530831033411456, 0.3268258321972514],\n",
    "[0.28796429354546016, 0.27589398109679525, 0.2885039149697778, 0.27031179367497843],\n",
    "[0.24723002684411757, 0.23070841198646297, 0.243294903349436, 0.2364447380233905, 0.23363971425749303]]\n",
    "\n",
    "ax.plot(qus, mean_neg_ide, \"-\", label = \"Ideal\", lw = 2.4, c = \"black\")\n",
    "\n",
    "ax.errorbar(qus, mean_neg_deco, yerr = std_neg_deco, label = \"Simulation - decoherence\",\n",
    "            lw = 2.4, c = \"forestgreen\", capsize=6, marker = \"s\", markersize = 4)\n",
    "\n",
    "for aa in range(len(n_full)):\n",
    "    plt.scatter([qus[aa]]*(int(qus[aa]/2)), n_full[aa], facecolors = \"none\", edgecolors = \"lightblue\")\n",
    "#\n",
    "ax.errorbar(qus, mean_neg_noisy, yerr = std_neg_noisy, label = \"Simulation - leakage and decoherence\",\n",
    "            lw = 2.4, c = \"lightblue\", capsize=6, marker = \"s\", markersize = 4)\n",
    "\n",
    "ax.set_ylim(-0.01,0.53)\n",
    "ax.legend(frameon = False)\n",
    "ax.set_ylabel('Negativity', fontsize = 14)\n",
    "ax.set_xlabel('# of photons', fontsize = 14)\n",
    "ax.tick_params(axis = \"both\", labelsize = 12)\n",
    "\n",
    "plt.show()"
   ]
  },
  {
   "cell_type": "code",
   "execution_count": null,
   "id": "8b1ae1b9-7b5f-44f6-80fe-aee94fd8b7eb",
   "metadata": {},
   "outputs": [],
   "source": []
  }
 ],
 "metadata": {
  "kernelspec": {
   "display_name": "Python 3 (ipykernel)",
   "language": "python",
   "name": "python3"
  },
  "language_info": {
   "codemirror_mode": {
    "name": "ipython",
    "version": 3
   },
   "file_extension": ".py",
   "mimetype": "text/x-python",
   "name": "python",
   "nbconvert_exporter": "python",
   "pygments_lexer": "ipython3",
   "version": "3.10.14"
  }
 },
 "nbformat": 4,
 "nbformat_minor": 5
}
